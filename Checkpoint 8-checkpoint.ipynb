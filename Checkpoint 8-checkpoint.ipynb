{
 "cells": [
  {
   "cell_type": "markdown",
   "id": "9d0c3763",
   "metadata": {},
   "source": [
    "# Question 1 :\n"
   ]
  },
  {
   "cell_type": "code",
   "execution_count": 10,
   "id": "3fc5e185",
   "metadata": {},
   "outputs": [
    {
     "name": "stdout",
     "output_type": "stream",
     "text": [
      "Holdin' me back\n",
      "Gravity's holdin' me back\n",
      "I want you to hold out the palm of your hand\n",
      "Why don't we leave it at that?\n",
      "Nothin' to say\n",
      "When everything gets in the way\n",
      "Seems you cannot be replaced\n",
      "And I'm the one who will stay, oh-oh-oh\n"
     ]
    }
   ],
   "source": [
    "#The texte file contains lyrics of a song titled : as it was - Harry styles\n",
    "f = open(\"file.txt\", \"r\")\n",
    "print(f.read())"
   ]
  },
  {
   "cell_type": "markdown",
   "id": "bb612e43",
   "metadata": {},
   "source": [
    "# Question 2 :"
   ]
  },
  {
   "cell_type": "code",
   "execution_count": 11,
   "id": "37bbe5b6",
   "metadata": {},
   "outputs": [
    {
     "name": "stdout",
     "output_type": "stream",
     "text": [
      "Please enter the number of lines you wish to read : 2\n",
      "First  2  lines :\n",
      "\n",
      "Holdin' me back\n",
      "\n",
      "Gravity's holdin' me back\n",
      "\n"
     ]
    }
   ],
   "source": [
    "i = input('Please enter the number of lines you wish to read : ')\n",
    "\n",
    "print(\"First \",i,\" lines :\\n\")\n",
    "\n",
    "f = open(\"file.txt\", \"r\")\n",
    "for i in range(2) :\n",
    "    print(f.readline())"
   ]
  },
  {
   "cell_type": "markdown",
   "id": "2ae9bfe2",
   "metadata": {},
   "source": [
    "# Question 3 :"
   ]
  },
  {
   "cell_type": "code",
   "execution_count": 13,
   "id": "2ac75f61",
   "metadata": {},
   "outputs": [
    {
     "name": "stdout",
     "output_type": "stream",
     "text": [
      "Please enter the number of lines you wish to read : 2\n",
      "Last  2  lines :\n",
      "\n",
      "Seems you cannot be replaced\n",
      "\n",
      "And I'm the one who will stay, oh-oh-oh\n"
     ]
    }
   ],
   "source": [
    "f = open(\"file.txt\", \"r\")\n",
    "\n",
    "i = int(input('Please enter the number of lines you wish to read : '))\n",
    "print(\"Last \",i,\" lines :\\n\")\n",
    "\n",
    "lines = f.readlines()\n",
    "\n",
    "last_lines = lines[-i:]\n",
    "\n",
    "for line in last_lines:\n",
    "    print(line)"
   ]
  },
  {
   "cell_type": "markdown",
   "id": "99f78b63",
   "metadata": {},
   "source": [
    "# Question 4 :"
   ]
  },
  {
   "cell_type": "code",
   "execution_count": 12,
   "id": "22742cd8",
   "metadata": {},
   "outputs": [
    {
     "name": "stdout",
     "output_type": "stream",
     "text": [
      "Number of words in text file : 47\n"
     ]
    }
   ],
   "source": [
    "f = open(\"file.txt\", \"r\")\n",
    "text = f.read()\n",
    "words = text.split()\n",
    "print('Number of words in text file :', len(words))"
   ]
  }
 ],
 "metadata": {
  "kernelspec": {
   "display_name": "Python 3 (ipykernel)",
   "language": "python",
   "name": "python3"
  },
  "language_info": {
   "codemirror_mode": {
    "name": "ipython",
    "version": 3
   },
   "file_extension": ".py",
   "mimetype": "text/x-python",
   "name": "python",
   "nbconvert_exporter": "python",
   "pygments_lexer": "ipython3",
   "version": "3.9.7"
  }
 },
 "nbformat": 4,
 "nbformat_minor": 5
}
